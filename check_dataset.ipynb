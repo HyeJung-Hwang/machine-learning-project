{
 "cells": [
  {
   "cell_type": "code",
   "execution_count": 7,
   "metadata": {},
   "outputs": [],
   "source": [
    "import numpy as np\n",
    "from sklearn.metrics import accuracy_score\n",
    "from sklearn.ensemble import RandomForestClassifier"
   ]
  },
  {
   "cell_type": "markdown",
   "metadata": {},
   "source": [
    "### load dataset"
   ]
  },
  {
   "cell_type": "code",
   "execution_count": 3,
   "metadata": {},
   "outputs": [],
   "source": [
    "train_x = np.load(r\"./X_train.npy\")\n",
    "test_x = np.load(r\"./X_test.npy\")\n",
    "train_y = np.load(r\"./y_train.npy\")\n",
    "test_y = np.load(r\"./y_test.npy\")"
   ]
  },
  {
   "cell_type": "markdown",
   "metadata": {},
   "source": [
    "### check dataset"
   ]
  },
  {
   "cell_type": "code",
   "execution_count": 4,
   "metadata": {},
   "outputs": [
    {
     "name": "stdout",
     "output_type": "stream",
     "text": [
      "train_x shape: (23200, 12)\n",
      "test_x shape: (5800, 12)\n",
      "train_y shape: (23200,)\n",
      "test_y shape: (5800,)\n"
     ]
    }
   ],
   "source": [
    "print(\"train_x shape:\", train_x.shape)\n",
    "print(\"test_x shape:\", test_x.shape)\n",
    "print(\"train_y shape:\", train_y.shape)\n",
    "print(\"test_y shape:\", test_y.shape)"
   ]
  },
  {
   "cell_type": "markdown",
   "metadata": {},
   "source": [
    "### train & test data(with no feature selection)\n",
    "\n",
    "- features\n",
    "    1. incoming_packets,\n",
    "    2. incoming_packets_in_first_30_packets,\n",
    "    3. outgoing_packets_in_first_30_packets,\n",
    "    4. outgoing_fraction,\n",
    "    5. total_packets_count_2D,\n",
    "    6. incoming_fraction,\n",
    "    7. outgoing_packets,\n",
    "    8. std_deviation_outgoing,\n",
    "    9. avg_outgoing_order,\n",
    "    10. total_counts,\n",
    "    11. combined_counts,\n",
    "    12. packet_concentration"
   ]
  },
  {
   "cell_type": "code",
   "execution_count": 8,
   "metadata": {},
   "outputs": [
    {
     "name": "stdout",
     "output_type": "stream",
     "text": [
      "테스트 데이터에 대한 정확도: 0.6743\n"
     ]
    }
   ],
   "source": [
    "clf = RandomForestClassifier()\n",
    "clf.fit(train_x, train_y)\n",
    "\n",
    "prediction_y = clf.predict(test_x)\n",
    "\n",
    "loaded_accuracy = accuracy_score(test_y, prediction_y)\n",
    "print(f\"테스트 데이터에 대한 정확도: {loaded_accuracy:.4f}\")"
   ]
  },
  {
   "cell_type": "markdown",
   "metadata": {},
   "source": [
    "### train & test data(with using feature)\n",
    "\n",
    "- features\n",
    "    - 1. incoming_packets,\n",
    "    - 12. packet_concentration"
   ]
  },
  {
   "cell_type": "code",
   "execution_count": 9,
   "metadata": {},
   "outputs": [],
   "source": [
    "train_x_1_12 = train_x[:, [0, 11]]\n",
    "test_x_1_12  = test_x[:, [0, 11]]"
   ]
  },
  {
   "cell_type": "code",
   "execution_count": 10,
   "metadata": {},
   "outputs": [
    {
     "name": "stdout",
     "output_type": "stream",
     "text": [
      "테스트 데이터에 대한 정확도: 0.3440\n"
     ]
    }
   ],
   "source": [
    "clf = RandomForestClassifier()\n",
    "clf.fit(train_x_1_12, train_y)\n",
    "\n",
    "prediction_y = clf.predict(test_x_1_12)\n",
    "\n",
    "loaded_accuracy = accuracy_score(test_y, prediction_y)\n",
    "print(f\"테스트 데이터에 대한 정확도: {loaded_accuracy:.4f}\")"
   ]
  }
 ],
 "metadata": {
  "kernelspec": {
   "display_name": "machine-learning-project-zPjYijDc",
   "language": "python",
   "name": "python3"
  },
  "language_info": {
   "codemirror_mode": {
    "name": "ipython",
    "version": 3
   },
   "file_extension": ".py",
   "mimetype": "text/x-python",
   "name": "python",
   "nbconvert_exporter": "python",
   "pygments_lexer": "ipython3",
   "version": "3.11.4"
  }
 },
 "nbformat": 4,
 "nbformat_minor": 2
}
